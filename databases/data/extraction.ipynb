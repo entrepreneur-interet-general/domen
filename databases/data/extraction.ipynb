{
 "cells": [
  {
   "cell_type": "code",
   "execution_count": null,
   "metadata": {
    "collapsed": true
   },
   "outputs": [],
   "source": [
    "from bs4 import BeautifulSoup\n",
    "import pandas as pd"
   ]
  },
  {
   "cell_type": "code",
   "execution_count": null,
   "metadata": {
    "collapsed": true
   },
   "outputs": [],
   "source": [
    "files = {\n",
    "    './193722ad5ac72833_c_28d755665b1acbdc.htm': 'colonnes',\n",
    "    './26a4311a5ac7ebb2_c_28d75e255b1a3ac6.htm': 'tables',\n",
    "    './26b0b12d5ad07d00_c_28d754e35b1a6fdc.htm': 'bases',\n",
    "    './755c7dc65ae16106_c_28d7554b5b1a3192.htm': 'cles',\n",
    "    './a4b7af9d5af204b7_c_28d754e45b1a71ce.htm': 'id_cles',\n",
    "    './a4b7b3555af20850_c_28d755225b1ae133.htm': 'cle_migrantes',\n",
    "    './a4b7b4da5af20922_c_28d75e165b1a047d.htm': 'cle_colonne'\n",
    "}"
   ]
  },
  {
   "cell_type": "code",
   "execution_count": null,
   "metadata": {},
   "outputs": [],
   "source": [
    "for filename, name in files.items():\n",
    "    print(f\"Extracting {name} ... \", end=\"\")\n",
    "    with open(filename, encoding=\"latin-1\") as f:\n",
    "        html =  f.readlines()\n",
    "    \n",
    "    soup = BeautifulSoup(str(html), 'lxml')\n",
    "    table = soup.find(\"table\")\n",
    "    \n",
    "    headings = [th.get_text() for th in table.find(\"tr\").find_all(\"th\")]\n",
    "    \n",
    "    datasets = []\n",
    "    for row in table.find_all(\"tr\")[1:]:\n",
    "        dataset = dict(zip(headings, (td.get_text() for td in row.find_all(\"td\"))))\n",
    "        datasets.append(dataset)\n",
    "    \n",
    "    data = pd.DataFrame.from_records(datasets)\n",
    "    \n",
    "    with open(f'./{name}.json', 'w') as f:\n",
    "        data.to_json(f, orient='records')\n",
    "    print(f\" done. (written to {name}.json)\")"
   ]
  },
  {
   "cell_type": "code",
   "execution_count": null,
   "metadata": {
    "collapsed": true
   },
   "outputs": [],
   "source": []
  }
 ],
 "metadata": {
  "kernelspec": {
   "display_name": "Python 3",
   "language": "python",
   "name": "python3"
  },
  "language_info": {
   "codemirror_mode": {
    "name": "ipython",
    "version": 3
   },
   "file_extension": ".py",
   "mimetype": "text/x-python",
   "name": "python",
   "nbconvert_exporter": "python",
   "pygments_lexer": "ipython3",
   "version": "3.6.1"
  }
 },
 "nbformat": 4,
 "nbformat_minor": 2
}
