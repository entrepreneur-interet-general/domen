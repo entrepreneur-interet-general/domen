{
 "cells": [
  {
   "cell_type": "code",
   "execution_count": 61,
   "metadata": {
    "collapsed": true
   },
   "outputs": [],
   "source": [
    "from bs4 import BeautifulSoup\n",
    "import pandas as pd"
   ]
  },
  {
   "cell_type": "code",
   "execution_count": 105,
   "metadata": {
    "collapsed": true
   },
   "outputs": [],
   "source": [
    "files = {\n",
    "    './193722ad5ac72833_c_28d755665b1acbdc.htm': 'colonnes',\n",
    "    './26a4311a5ac7ebb2_c_28d75e255b1a3ac6.htm': 'tables',\n",
    "    './26b0b12d5ad07d00_c_28d754e35b1a6fdc.htm': 'bases',\n",
    "    './755c7dc65ae16106_c_28d7554b5b1a3192.htm': 'cles',\n",
    "    './a4b7af9d5af204b7_c_28d754e45b1a71ce.htm': 'id_cles',\n",
    "    './a4b7b3555af20850_c_28d755225b1ae133.htm': 'cle_migrantes',\n",
    "    './a4b7b4da5af20922_c_28d75e165b1a047d.htm': 'cle_colonne'\n",
    "}"
   ]
  },
  {
   "cell_type": "code",
   "execution_count": 112,
   "metadata": {},
   "outputs": [
    {
     "name": "stdout",
     "output_type": "stream",
     "text": [
      "Extracting colonnes ...  done. (written to colonnes.json)\n",
      "Extracting tables ...  done. (written to tables.json)\n",
      "Extracting bases ...  done. (written to bases.json)\n",
      "Extracting cles ...  done. (written to cles.json)\n",
      "Extracting id_cles ...  done. (written to id_cles.json)\n",
      "Extracting cle_migrantes ...  done. (written to cle_migrantes.json)\n",
      "Extracting cle_colonne ...  done. (written to cle_colonne.json)\n"
     ]
    }
   ],
   "source": [
    "for filename, name in files.items():\n",
    "    print(f\"Extracting {name} ... \", end=\"\")\n",
    "    with open(filename, encoding=\"latin-1\") as f:\n",
    "        html =  f.readlines()\n",
    "    \n",
    "    soup = BeautifulSoup(str(html), 'lxml')\n",
    "    table = soup.find(\"table\")\n",
    "    \n",
    "    headings = [th.get_text() for th in table.find(\"tr\").find_all(\"th\")]\n",
    "    \n",
    "    datasets = []\n",
    "    for row in table.find_all(\"tr\")[1:]:\n",
    "        dataset = dict(zip(headings, (td.get_text() for td in row.find_all(\"td\"))))\n",
    "        datasets.append(dataset)\n",
    "    \n",
    "    data = pd.DataFrame.from_records(datasets)\n",
    "    \n",
    "    with open(f'./{name}.json', 'w') as f:\n",
    "        data.to_json(f, orient='records')\n",
    "    print(f\" done. (written to {name}.json)\")"
   ]
  },
  {
   "cell_type": "code",
   "execution_count": 107,
   "metadata": {
    "collapsed": true
   },
   "outputs": [],
   "source": []
  },
  {
   "cell_type": "code",
   "execution_count": 108,
   "metadata": {},
   "outputs": [],
   "source": []
  },
  {
   "cell_type": "code",
   "execution_count": 97,
   "metadata": {},
   "outputs": [],
   "source": [
    "datasets = []\n",
    "for row in table.find_all(\"tr\")[1:]:\n",
    "    dataset = dict(zip(headings, (td.get_text() for td in row.find_all(\"td\"))))\n",
    "    datasets.append(dataset)"
   ]
  },
  {
   "cell_type": "code",
   "execution_count": 98,
   "metadata": {},
   "outputs": [],
   "source": []
  },
  {
   "cell_type": "code",
   "execution_count": 99,
   "metadata": {},
   "outputs": [
    {
     "data": {
      "text/html": [
       "<div>\n",
       "<style scoped>\n",
       "    .dataframe tbody tr th:only-of-type {\n",
       "        vertical-align: middle;\n",
       "    }\n",
       "\n",
       "    .dataframe tbody tr th {\n",
       "        vertical-align: top;\n",
       "    }\n",
       "\n",
       "    .dataframe thead th {\n",
       "        text-align: right;\n",
       "    }\n",
       "</style>\n",
       "<table border=\"1\" class=\"dataframe\">\n",
       "  <thead>\n",
       "    <tr style=\"text-align: right;\">\n",
       "      <th></th>\n",
       "      <th>BD ID</th>\n",
       "      <th>Table ID</th>\n",
       "    </tr>\n",
       "  </thead>\n",
       "  <tbody>\n",
       "    <tr>\n",
       "      <th>0</th>\n",
       "      <td>sysca</td>\n",
       "      <td>academie</td>\n",
       "    </tr>\n",
       "    <tr>\n",
       "      <th>1</th>\n",
       "      <td>sysca</td>\n",
       "      <td>age_reference</td>\n",
       "    </tr>\n",
       "    <tr>\n",
       "      <th>2</th>\n",
       "      <td>sysca</td>\n",
       "      <td>annulation_scolarite</td>\n",
       "    </tr>\n",
       "    <tr>\n",
       "      <th>3</th>\n",
       "      <td>sysca</td>\n",
       "      <td>a_option</td>\n",
       "    </tr>\n",
       "    <tr>\n",
       "      <th>4</th>\n",
       "      <td>sysca</td>\n",
       "      <td>a_pour_zones</td>\n",
       "    </tr>\n",
       "  </tbody>\n",
       "</table>\n",
       "</div>"
      ],
      "text/plain": [
       "      BD ID               Table ID\n",
       "0    sysca                academie\n",
       "1    sysca           age_reference\n",
       "2    sysca    annulation_scolarite\n",
       "3    sysca                a_option\n",
       "4    sysca            a_pour_zones"
      ]
     },
     "execution_count": 99,
     "metadata": {},
     "output_type": "execute_result"
    }
   ],
   "source": [
    "data.head()"
   ]
  },
  {
   "cell_type": "code",
   "execution_count": 75,
   "metadata": {
    "collapsed": true
   },
   "outputs": [],
   "source": []
  },
  {
   "cell_type": "code",
   "execution_count": 60,
   "metadata": {},
   "outputs": [
    {
     "name": "stdout",
     "output_type": "stream",
     "text": [
      "\u001b[31m193722ad5ac72833_c_28d755665b1acbdc.htm\u001b[m\u001b[m \u001b[31ma4b7af9d5af204b7_c_28d754e45b1a71ce.htm\u001b[m\u001b[m\r\n",
      "\u001b[31m26a4311a5ac7ebb2_c_28d75e255b1a3ac6.htm\u001b[m\u001b[m \u001b[31ma4b7b3555af20850_c_28d755225b1ae133.htm\u001b[m\u001b[m\r\n",
      "\u001b[31m26b0b12d5ad07d00_c_28d754e35b1a6fdc.htm\u001b[m\u001b[m \u001b[31ma4b7b4da5af20922_c_28d75e165b1a047d.htm\u001b[m\u001b[m\r\n",
      "\u001b[31m755c7dc65ae16106_c_28d7554b5b1a3192.htm\u001b[m\u001b[m colonnes\r\n",
      "Untitled.ipynb                          colonnes.json\r\n"
     ]
    }
   ],
   "source": [
    "!ls"
   ]
  },
  {
   "cell_type": "code",
   "execution_count": null,
   "metadata": {
    "collapsed": true
   },
   "outputs": [],
   "source": []
  }
 ],
 "metadata": {
  "kernelspec": {
   "display_name": "Python 3",
   "language": "python",
   "name": "python3"
  },
  "language_info": {
   "codemirror_mode": {
    "name": "ipython",
    "version": 3
   },
   "file_extension": ".py",
   "mimetype": "text/x-python",
   "name": "python",
   "nbconvert_exporter": "python",
   "pygments_lexer": "ipython3",
   "version": "3.6.1"
  }
 },
 "nbformat": 4,
 "nbformat_minor": 2
}
